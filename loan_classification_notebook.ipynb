{
 "cells": [
  {
   "cell_type": "markdown",
   "id": "dd300c1f-d6e7-49a8-ab46-a66598751904",
   "metadata": {},
   "source": [
    "# Loan Approval Prediction System\n",
    "\n",
    "#### This project aims to build a machine learning model to predict loan approval based on various features.\n",
    "\n",
    "**Objective**: Develop a Random Forest model to predict loan approval using applicant data.\n",
    "\n",
    "---\n",
    "\n",
    "## **Key Steps**:\n",
    "\n",
    "1. **Data Loading**:\n",
    "   - Load dataset with features: income, credit score, loan amount, DTI ratio, employment status, loan purpose.\n",
    "\n",
    "2. **Data Preprocessing**:\n",
    "   - Handle missing values.\n",
    "   - Encode categorical variables (e.g., employment status).\n",
    "   - Normalize/scale numerical features.\n",
    "\n",
    "3. **Feature Extraction**:\n",
    "   - Select key features impacting approval.\n",
    "   - Perform feature engineering if needed.\n",
    "\n",
    "4. **Model Training**:\n",
    "   - Split data into train/test sets.\n",
    "   - Train Random Forest classifier.\n",
    "\n",
    "5. **Model Evaluation**:\n",
    "   - Evaluate using metrics: accuracy, precision, recall, F1-score.\n",
    "   - Perform cross-validation for robustness.\n",
    "\n",
    "6. **Model Deployment (Optional)**:\n",
    "   - Deploy model via streamlit for real-time predictions.\n",
    "\n",
    "---\n",
    "\n",
    "## **Expected Outcomes**:\n",
    "- Accurate loan approval predictions.\n",
    "- Insights into key features driving approval.\n",
    "- Optional web-based prediction interface.\n",
    "\n",
    "---"
   ]
  },
  {
   "cell_type": "markdown",
   "id": "a2a5d828-fee5-47ee-9a8a-c0b83d7ea8ee",
   "metadata": {},
   "source": [
    "## About Data\n",
    "This dataset contains information about loan applications, including various attributes of the applicants and the approval status of their loan requests.\n",
    "\n",
    "### Key Features in datasets:\n",
    "##### 1.) Text: A description of why the loan is needed.\n",
    "##### 2.)Income: The annual income of the applicant.\n",
    "##### 3.)Credit_Score: The credit score of the applicant.\n",
    "##### 4.)Loan_Amount: The amount of the loan requested.\n",
    "##### 5.)DTI_Ratio: The debt-to-income ratio of the applicant.\n",
    "##### 6.)Employment_Status: The employment status of the applicant (employed or unemployed).\n",
    "##### 7.)Approval: The loan approval status (Rejected or Approved)."
   ]
  },
  {
   "cell_type": "markdown",
   "id": "c512d5e7-f98b-4603-9201-3dad55c01147",
   "metadata": {},
   "source": [
    "# Import necessary libraries"
   ]
  },
  {
   "cell_type": "code",
   "execution_count": 1,
   "id": "6a5dcd50-19c7-494a-b763-35fbc2148387",
   "metadata": {},
   "outputs": [
    {
     "name": "stderr",
     "output_type": "stream",
     "text": [
      "[nltk_data] Downloading package stopwords to\n",
      "[nltk_data]     C:\\Users\\ACER\\AppData\\Roaming\\nltk_data...\n",
      "[nltk_data]   Package stopwords is already up-to-date!\n",
      "[nltk_data] Downloading package punkt to\n",
      "[nltk_data]     C:\\Users\\ACER\\AppData\\Roaming\\nltk_data...\n",
      "[nltk_data]   Package punkt is already up-to-date!\n"
     ]
    },
    {
     "data": {
      "text/plain": [
       "True"
      ]
     },
     "execution_count": 1,
     "metadata": {},
     "output_type": "execute_result"
    }
   ],
   "source": [
    "import pandas as pd\n",
    "import numpy as np\n",
    "import matplotlib.pyplot as plt\n",
    "import seaborn as sns\n",
    "import re\n",
    "import string\n",
    "import nltk\n",
    "import joblib\n",
    "from nltk.corpus import stopwords\n",
    "from nltk.tokenize import word_tokenize\n",
    "from sklearn.feature_extraction.text import TfidfVectorizer\n",
    "from sklearn.preprocessing import StandardScaler\n",
    "from sklearn.model_selection import train_test_split\n",
    "from sklearn.ensemble import RandomForestClassifier\n",
    "from sklearn.metrics import classification_report, accuracy_score\n",
    "\n",
    "nltk.download('stopwords')\n",
    "nltk.download('punkt')"
   ]
  },
  {
   "cell_type": "markdown",
   "id": "590d75d3-4b3b-4078-8cc6-ffef18809932",
   "metadata": {},
   "source": [
    "# Load the loan data from csv file"
   ]
  },
  {
   "cell_type": "code",
   "execution_count": 2,
   "id": "374de7f6-0653-49e7-92ea-0522158d4347",
   "metadata": {},
   "outputs": [
    {
     "name": "stdout",
     "output_type": "stream",
     "text": [
      "File loaded sucessfully !\n"
     ]
    }
   ],
   "source": [
    "def load_file():\n",
    "    try:\n",
    "        df = pd.read_csv(\"loan_data.csv\")\n",
    "        print(\"File loaded sucessfully !\")\n",
    "        return df\n",
    "    except FileNotFoundError:\n",
    "        print(\"Make sure that file is availabel in current directory!\")\n",
    "        return None\n",
    "    except Exception as e:\n",
    "        print(f\"Error : {str(e)}\")\n",
    "        return None\n",
    "\n",
    "df = load_file()"
   ]
  },
  {
   "cell_type": "markdown",
   "id": "38252308-d521-4c66-adf5-441840e58b5f",
   "metadata": {},
   "source": [
    "# Displaying the first few rows of the DataFrame"
   ]
  },
  {
   "cell_type": "code",
   "execution_count": 3,
   "id": "3e3e73ea-dfb1-475b-881e-3dab3a58f571",
   "metadata": {},
   "outputs": [
    {
     "data": {
      "text/html": [
       "<div>\n",
       "<style scoped>\n",
       "    .dataframe tbody tr th:only-of-type {\n",
       "        vertical-align: middle;\n",
       "    }\n",
       "\n",
       "    .dataframe tbody tr th {\n",
       "        vertical-align: top;\n",
       "    }\n",
       "\n",
       "    .dataframe thead th {\n",
       "        text-align: right;\n",
       "    }\n",
       "</style>\n",
       "<table border=\"1\" class=\"dataframe\">\n",
       "  <thead>\n",
       "    <tr style=\"text-align: right;\">\n",
       "      <th></th>\n",
       "      <th>Text</th>\n",
       "      <th>Income</th>\n",
       "      <th>Credit_Score</th>\n",
       "      <th>Loan_Amount</th>\n",
       "      <th>DTI_Ratio</th>\n",
       "      <th>Employment_Status</th>\n",
       "      <th>Approval</th>\n",
       "    </tr>\n",
       "  </thead>\n",
       "  <tbody>\n",
       "    <tr>\n",
       "      <th>0</th>\n",
       "      <td>I need a loan to pay for an international vaca...</td>\n",
       "      <td>26556</td>\n",
       "      <td>581</td>\n",
       "      <td>8314</td>\n",
       "      <td>79.26</td>\n",
       "      <td>employed</td>\n",
       "      <td>Rejected</td>\n",
       "    </tr>\n",
       "    <tr>\n",
       "      <th>1</th>\n",
       "      <td>I want to make home improvements like installi...</td>\n",
       "      <td>197392</td>\n",
       "      <td>389</td>\n",
       "      <td>111604</td>\n",
       "      <td>22.14</td>\n",
       "      <td>employed</td>\n",
       "      <td>Rejected</td>\n",
       "    </tr>\n",
       "    <tr>\n",
       "      <th>2</th>\n",
       "      <td>I need a loan for home renovation, including a...</td>\n",
       "      <td>44561</td>\n",
       "      <td>523</td>\n",
       "      <td>34118</td>\n",
       "      <td>45.44</td>\n",
       "      <td>employed</td>\n",
       "      <td>Rejected</td>\n",
       "    </tr>\n",
       "    <tr>\n",
       "      <th>3</th>\n",
       "      <td>I need funds to buy new furniture and applianc...</td>\n",
       "      <td>190363</td>\n",
       "      <td>729</td>\n",
       "      <td>118757</td>\n",
       "      <td>10.22</td>\n",
       "      <td>unemployed</td>\n",
       "      <td>Rejected</td>\n",
       "    </tr>\n",
       "    <tr>\n",
       "      <th>4</th>\n",
       "      <td>I need a loan to start a small business.</td>\n",
       "      <td>61853</td>\n",
       "      <td>732</td>\n",
       "      <td>19210</td>\n",
       "      <td>44.13</td>\n",
       "      <td>employed</td>\n",
       "      <td>Approved</td>\n",
       "    </tr>\n",
       "  </tbody>\n",
       "</table>\n",
       "</div>"
      ],
      "text/plain": [
       "                                                Text  Income  Credit_Score  \\\n",
       "0  I need a loan to pay for an international vaca...   26556           581   \n",
       "1  I want to make home improvements like installi...  197392           389   \n",
       "2  I need a loan for home renovation, including a...   44561           523   \n",
       "3  I need funds to buy new furniture and applianc...  190363           729   \n",
       "4           I need a loan to start a small business.   61853           732   \n",
       "\n",
       "   Loan_Amount  DTI_Ratio Employment_Status  Approval  \n",
       "0         8314      79.26          employed  Rejected  \n",
       "1       111604      22.14          employed  Rejected  \n",
       "2        34118      45.44          employed  Rejected  \n",
       "3       118757      10.22        unemployed  Rejected  \n",
       "4        19210      44.13          employed  Approved  "
      ]
     },
     "execution_count": 3,
     "metadata": {},
     "output_type": "execute_result"
    }
   ],
   "source": [
    "df.head()"
   ]
  },
  {
   "cell_type": "markdown",
   "id": "e9bb602b-57ac-404d-898d-eda9b3d5a441",
   "metadata": {},
   "source": [
    "# Getting information about the datasets"
   ]
  },
  {
   "cell_type": "code",
   "execution_count": 4,
   "id": "f42c9092-be31-45ed-a0e9-dc2f396adcc5",
   "metadata": {},
   "outputs": [
    {
     "name": "stdout",
     "output_type": "stream",
     "text": [
      "<class 'pandas.core.frame.DataFrame'>\n",
      "RangeIndex: 24000 entries, 0 to 23999\n",
      "Data columns (total 7 columns):\n",
      " #   Column             Non-Null Count  Dtype  \n",
      "---  ------             --------------  -----  \n",
      " 0   Text               24000 non-null  object \n",
      " 1   Income             24000 non-null  int64  \n",
      " 2   Credit_Score       24000 non-null  int64  \n",
      " 3   Loan_Amount        24000 non-null  int64  \n",
      " 4   DTI_Ratio          24000 non-null  float64\n",
      " 5   Employment_Status  24000 non-null  object \n",
      " 6   Approval           24000 non-null  object \n",
      "dtypes: float64(1), int64(3), object(3)\n",
      "memory usage: 1.3+ MB\n"
     ]
    }
   ],
   "source": [
    "df.info()"
   ]
  },
  {
   "cell_type": "markdown",
   "id": "02978e83-1248-42e9-8edf-dccf3e077177",
   "metadata": {},
   "source": [
    "# Findings\n",
    "### DataFrame Summary\n",
    "- **Shape:** 24,000 rows, 7 columns\n",
    "- **Data Types:** 3 int64, 1 float64, 3 object\n",
    "---"
   ]
  },
  {
   "cell_type": "markdown",
   "id": "79d4f5cc-cffe-47e5-97ca-51f0aebad1f0",
   "metadata": {},
   "source": [
    "# Checking for missing values"
   ]
  },
  {
   "cell_type": "code",
   "execution_count": 5,
   "id": "0a7ef335-3422-4f86-8172-c06add288682",
   "metadata": {},
   "outputs": [
    {
     "data": {
      "text/plain": [
       "Text                 0\n",
       "Income               0\n",
       "Credit_Score         0\n",
       "Loan_Amount          0\n",
       "DTI_Ratio            0\n",
       "Employment_Status    0\n",
       "Approval             0\n",
       "dtype: int64"
      ]
     },
     "execution_count": 5,
     "metadata": {},
     "output_type": "execute_result"
    }
   ],
   "source": [
    "df.isnull().sum()"
   ]
  },
  {
   "cell_type": "markdown",
   "id": "a66b1245-d6b7-4d85-ba0e-5ee8f3d84963",
   "metadata": {},
   "source": [
    "# Findings\n",
    "- No missing values in any column.\n",
    "---"
   ]
  },
  {
   "cell_type": "markdown",
   "id": "2d4626ac-8b78-47f1-a187-29fcfcfde383",
   "metadata": {},
   "source": [
    "# Checking for duplicate rows"
   ]
  },
  {
   "cell_type": "code",
   "execution_count": 6,
   "id": "e49148f4-e3e7-4543-b190-052a358edbd0",
   "metadata": {},
   "outputs": [
    {
     "data": {
      "text/plain": [
       "np.int64(0)"
      ]
     },
     "execution_count": 6,
     "metadata": {},
     "output_type": "execute_result"
    }
   ],
   "source": [
    "df.duplicated().sum()"
   ]
  },
  {
   "cell_type": "markdown",
   "id": "328fa8de-756a-48f0-89db-d1e45e74f059",
   "metadata": {},
   "source": [
    "# Findings\n",
    "- No duplicate values in any column.\n",
    "---"
   ]
  },
  {
   "cell_type": "markdown",
   "id": "90c51c1a-6144-483f-8442-8b503a3c91d6",
   "metadata": {},
   "source": [
    "# previewing basic statistics of datasets"
   ]
  },
  {
   "cell_type": "code",
   "execution_count": 7,
   "id": "2e723c18-e6da-4fa2-957e-2a39df38a88d",
   "metadata": {},
   "outputs": [
    {
     "data": {
      "text/html": [
       "<div>\n",
       "<style scoped>\n",
       "    .dataframe tbody tr th:only-of-type {\n",
       "        vertical-align: middle;\n",
       "    }\n",
       "\n",
       "    .dataframe tbody tr th {\n",
       "        vertical-align: top;\n",
       "    }\n",
       "\n",
       "    .dataframe thead th {\n",
       "        text-align: right;\n",
       "    }\n",
       "</style>\n",
       "<table border=\"1\" class=\"dataframe\">\n",
       "  <thead>\n",
       "    <tr style=\"text-align: right;\">\n",
       "      <th></th>\n",
       "      <th>Income</th>\n",
       "      <th>Credit_Score</th>\n",
       "      <th>Loan_Amount</th>\n",
       "      <th>DTI_Ratio</th>\n",
       "    </tr>\n",
       "  </thead>\n",
       "  <tbody>\n",
       "    <tr>\n",
       "      <th>count</th>\n",
       "      <td>24000.000000</td>\n",
       "      <td>24000.000000</td>\n",
       "      <td>24000.000000</td>\n",
       "      <td>24000.000000</td>\n",
       "    </tr>\n",
       "    <tr>\n",
       "      <th>mean</th>\n",
       "      <td>110377.552708</td>\n",
       "      <td>575.720333</td>\n",
       "      <td>44356.154833</td>\n",
       "      <td>34.719167</td>\n",
       "    </tr>\n",
       "    <tr>\n",
       "      <th>std</th>\n",
       "      <td>51729.677627</td>\n",
       "      <td>159.227621</td>\n",
       "      <td>34666.604785</td>\n",
       "      <td>32.322471</td>\n",
       "    </tr>\n",
       "    <tr>\n",
       "      <th>min</th>\n",
       "      <td>20001.000000</td>\n",
       "      <td>300.000000</td>\n",
       "      <td>1005.000000</td>\n",
       "      <td>2.530000</td>\n",
       "    </tr>\n",
       "    <tr>\n",
       "      <th>25%</th>\n",
       "      <td>65635.750000</td>\n",
       "      <td>437.000000</td>\n",
       "      <td>16212.000000</td>\n",
       "      <td>14.507500</td>\n",
       "    </tr>\n",
       "    <tr>\n",
       "      <th>50%</th>\n",
       "      <td>110464.000000</td>\n",
       "      <td>575.000000</td>\n",
       "      <td>35207.000000</td>\n",
       "      <td>24.860000</td>\n",
       "    </tr>\n",
       "    <tr>\n",
       "      <th>75%</th>\n",
       "      <td>155187.000000</td>\n",
       "      <td>715.000000</td>\n",
       "      <td>65622.750000</td>\n",
       "      <td>41.840000</td>\n",
       "    </tr>\n",
       "    <tr>\n",
       "      <th>max</th>\n",
       "      <td>200000.000000</td>\n",
       "      <td>850.000000</td>\n",
       "      <td>158834.000000</td>\n",
       "      <td>246.330000</td>\n",
       "    </tr>\n",
       "  </tbody>\n",
       "</table>\n",
       "</div>"
      ],
      "text/plain": [
       "              Income  Credit_Score    Loan_Amount     DTI_Ratio\n",
       "count   24000.000000  24000.000000   24000.000000  24000.000000\n",
       "mean   110377.552708    575.720333   44356.154833     34.719167\n",
       "std     51729.677627    159.227621   34666.604785     32.322471\n",
       "min     20001.000000    300.000000    1005.000000      2.530000\n",
       "25%     65635.750000    437.000000   16212.000000     14.507500\n",
       "50%    110464.000000    575.000000   35207.000000     24.860000\n",
       "75%    155187.000000    715.000000   65622.750000     41.840000\n",
       "max    200000.000000    850.000000  158834.000000    246.330000"
      ]
     },
     "execution_count": 7,
     "metadata": {},
     "output_type": "execute_result"
    }
   ],
   "source": [
    "df.describe()"
   ]
  },
  {
   "cell_type": "markdown",
   "id": "190c1e6e-b02b-4ad7-9daa-79924cbffcb8",
   "metadata": {},
   "source": [
    "### Basic Statistics Summary\n",
    "\n",
    "- **Income:** \n",
    "  - Mean: $110378\n",
    "  - Median: $110464\n",
    "  - Std Dev: $51730\n",
    "  - Range: $20000 - $200000\n",
    "\n",
    "- **Credit Score:**\n",
    "  - Mean: 576\n",
    "  - Median: 575\n",
    "  - Std Dev: 159\n",
    "  - Range: 300 - 850\n",
    "\n",
    "- **Loan Amount:**\n",
    "  - Mean: $44356\n",
    "  - Median: $35207\n",
    "  - Std Dev: $34667\n",
    "  - Range: $1005 - $158834\n",
    "\n",
    "- **DTI Ratio:**\n",
    "  - Mean: 34.7\n",
    "  - Median: 24.86\n",
    "  - Std Dev: 32.3\n",
    "  - Range: 2.53 - 246.33\n",
    "---"
   ]
  },
  {
   "cell_type": "markdown",
   "id": "3525ee84-908a-44a3-b5f2-9a43c23b94ca",
   "metadata": {},
   "source": [
    "# Preprocess the text data"
   ]
  },
  {
   "cell_type": "code",
   "execution_count": 8,
   "id": "9a93a7dd-c4d8-46db-ace8-8a35a409f984",
   "metadata": {},
   "outputs": [],
   "source": [
    "def preprocess_text(text):\n",
    "    text = text.lower()\n",
    "    text = re.sub(f\"[{string.punctuation}]\", \"\", text)\n",
    "    stop_words = set(stopwords.words('english'))\n",
    "    tokens = word_tokenize(text)\n",
    "    filtered_tokens = [word for word in tokens if word not in stop_words]\n",
    "    return \" \".join(filtered_tokens)\n",
    "\n",
    "df[\"clean_text\"] = df[\"Text\"].apply(preprocess_text)"
   ]
  },
  {
   "cell_type": "code",
   "execution_count": 9,
   "id": "b3e1b887-156f-4820-b752-83b42f53e4c9",
   "metadata": {},
   "outputs": [
    {
     "data": {
      "text/plain": [
       "0          need loan pay international vacation family\n",
       "1    want make home improvements like installing so...\n",
       "2    need loan home renovation including kitchen re...\n",
       "3        need funds buy new furniture appliances house\n",
       "4                       need loan start small business\n",
       "Name: clean_text, dtype: object"
      ]
     },
     "execution_count": 9,
     "metadata": {},
     "output_type": "execute_result"
    }
   ],
   "source": [
    "df[\"clean_text\"].head()"
   ]
  },
  {
   "cell_type": "markdown",
   "id": "fd7c18f8-e3e7-4667-884a-35953165832e",
   "metadata": {},
   "source": [
    "# Encode categorical variables"
   ]
  },
  {
   "cell_type": "code",
   "execution_count": 10,
   "id": "ac0ecce0-40f4-4eae-92bd-6fd273f1aeba",
   "metadata": {},
   "outputs": [
    {
     "name": "stderr",
     "output_type": "stream",
     "text": [
      "C:\\Users\\ACER\\AppData\\Local\\Temp\\ipykernel_3668\\1441878704.py:1: FutureWarning: Downcasting behavior in `replace` is deprecated and will be removed in a future version. To retain the old behavior, explicitly call `result.infer_objects(copy=False)`. To opt-in to the future behavior, set `pd.set_option('future.no_silent_downcasting', True)`\n",
      "  df[\"Employment_Status\"] = df[\"Employment_Status\"].replace({\"unemployed\": 0, \"employed\": 1}).astype(int)\n",
      "C:\\Users\\ACER\\AppData\\Local\\Temp\\ipykernel_3668\\1441878704.py:2: FutureWarning: Downcasting behavior in `replace` is deprecated and will be removed in a future version. To retain the old behavior, explicitly call `result.infer_objects(copy=False)`. To opt-in to the future behavior, set `pd.set_option('future.no_silent_downcasting', True)`\n",
      "  df[\"Approval\"] = df[\"Approval\"].replace({\"Rejected\" : 0, \"Approved\" : 1}).astype(int)\n"
     ]
    }
   ],
   "source": [
    "df[\"Employment_Status\"] = df[\"Employment_Status\"].replace({\"unemployed\": 0, \"employed\": 1}).astype(int)\n",
    "df[\"Approval\"] = df[\"Approval\"].replace({\"Rejected\" : 0, \"Approved\" : 1}).astype(int)"
   ]
  },
  {
   "cell_type": "code",
   "execution_count": 11,
   "id": "c270f1dd-4f4c-40d3-86a9-cc2ac2ae2cc5",
   "metadata": {},
   "outputs": [
    {
     "data": {
      "text/plain": [
       "Employment_Status\n",
       "0    12007\n",
       "1    11993\n",
       "Name: count, dtype: int64"
      ]
     },
     "execution_count": 11,
     "metadata": {},
     "output_type": "execute_result"
    }
   ],
   "source": [
    "df[\"Employment_Status\"].value_counts()"
   ]
  },
  {
   "cell_type": "code",
   "execution_count": 12,
   "id": "ee0ca7e5-53cc-4807-bb2e-69cb4c9e95f2",
   "metadata": {},
   "outputs": [
    {
     "data": {
      "text/plain": [
       "Approval\n",
       "0    20067\n",
       "1     3933\n",
       "Name: count, dtype: int64"
      ]
     },
     "execution_count": 12,
     "metadata": {},
     "output_type": "execute_result"
    }
   ],
   "source": [
    "df[\"Approval\"].value_counts()"
   ]
  },
  {
   "cell_type": "markdown",
   "id": "d87a11e2-1c0a-4b57-95f3-8b3b1a30dd3e",
   "metadata": {},
   "source": [
    "# Visualizing the distribution of categorical features like Employment_Status and Loan Approval"
   ]
  },
  {
   "cell_type": "code",
   "execution_count": 13,
   "id": "3b36f334-3a9c-47aa-84bb-e2fc31920d49",
   "metadata": {},
   "outputs": [
    {
     "data": {
      "image/png": "[encoded data removed]",
      "text/plain": [
       "<Figure size 1500x500 with 2 Axes>"
      ]
     },
     "metadata": {},
     "output_type": "display_data"
    }
   ],
   "source": [
    "plt.figure(figsize=(15, 5))\n",
    "plt.subplot(1, 2, 1)\n",
    "sns.countplot(x='Employment_Status', data=df)\n",
    "plt.title('Distribution of Employment Status')\n",
    "\n",
    "plt.subplot(1, 2, 2)\n",
    "sns.countplot(x='Approval', data=df)\n",
    "plt.title('Distribution of Loan Approval')\n",
    "\n",
    "plt.tight_layout()\n",
    "plt.show()"
   ]
  },
  {
   "cell_type": "code",
   "execution_count": 14,
   "id": "44544532-aee0-4352-899a-cb7da914f10f",
   "metadata": {},
   "outputs": [
    {
     "data": {
      "image/png": "[encoded data removed]",
      "text/plain": [
       "<Figure size 640x480 with 1 Axes>"
      ]
     },
     "metadata": {},
     "output_type": "display_data"
    }
   ],
   "source": [
    "df['Approval'].value_counts().plot.pie(autopct='%1.1f%%', labels=['Rejected', 'Approved'], startangle=90)\n",
    "plt.title('Class Distribution Before Balancing')\n",
    "plt.ylabel('')\n",
    "plt.savefig('Class Distribution Before Balancing.png')\n",
    "plt.show()"
   ]
  },
  {
   "cell_type": "markdown",
   "id": "7c78be02-1d42-4afd-b72c-87a35b8b288b",
   "metadata": {},
   "source": [
    "# Balancng the dataset"
   ]
  },
  {
   "cell_type": "code",
   "execution_count": 15,
   "id": "843cad28-686e-479b-97c0-8491ab816c23",
   "metadata": {},
   "outputs": [
    {
     "name": "stdout",
     "output_type": "stream",
     "text": [
      "\n",
      "Balanced Class Distribution (Downsampling):\n"
     ]
    },
    {
     "data": {
      "text/plain": [
       "Approval\n",
       "0    3933\n",
       "1    3933\n",
       "Name: count, dtype: int64"
      ]
     },
     "execution_count": 15,
     "metadata": {},
     "output_type": "execute_result"
    }
   ],
   "source": [
    "rejected = df[df[\"Approval\"] == 0 ]\n",
    "\n",
    "approved = df[df[\"Approval\"] == 1]\n",
    "\n",
    "# Downsample the majority class (Rejected) to match the minority class size\n",
    "rejected_downsampled = rejected.sample(n=len(approved), random_state=42)\n",
    "\n",
    "# Combine both classes into a balanced dataset\n",
    "df_balanced = pd.concat([rejected_downsampled, approved])\n",
    "\n",
    "# Check the new class distribution\n",
    "print(\"\\nBalanced Class Distribution (Downsampling):\")\n",
    "df_balanced[\"Approval\"].value_counts()"
   ]
  },
  {
   "cell_type": "code",
   "execution_count": 16,
   "id": "ccfa887f-3ab7-4062-94aa-cb3f6a9aabe5",
   "metadata": {},
   "outputs": [
    {
     "data": {
      "image/png": "[encoded data removed]",
      "text/plain": [
       "<Figure size 640x480 with 1 Axes>"
      ]
     },
     "metadata": {},
     "output_type": "display_data"
    }
   ],
   "source": [
    "df_balanced['Approval'].value_counts().plot.pie(autopct='%1.1f%%', labels=['Rejected', 'Approved'], startangle=90)\n",
    "plt.title('Class Distribution After Balancing')\n",
    "plt.ylabel('')\n",
    "plt.savefig(\"Class Distribution After Balancing.png\")\n",
    "plt.show()"
   ]
  },
  {
   "cell_type": "markdown",
   "id": "5184ed5a-7194-4e12-9a1f-1b3ded1516e1",
   "metadata": {},
   "source": [
    "# Data Summary and Analysis\n",
    "\n",
    "## **Initial Class Distribution (Before Balancing)**\n",
    "- **Rejected (0):** 83.6%\n",
    "- **Approved (1):** 16.4%\n",
    "\n",
    "### **Key Insights**\n",
    "- **Employment Status:**\n",
    "  - **Unemployed (0):** 12,007 applicants\n",
    "  - **Employed (1):** 11,993 applicants\n",
    "- **Loan Approval:**\n",
    "  - **Rejected (0):** 20,067 applicants\n",
    "  - **Approved (1):** 3,933 applicants\n",
    "\n",
    "## **Balanced Class Distribution (After Balancing)**\n",
    "- **Rejected (0):** 50.0%\n",
    "- **Approved (1):** 50.0%\n",
    "\n",
    "### **Balancing Technique**\n",
    "- **Downsampling:**\n",
    "  - Adjusted the majority class (Rejected) to match the minority class (Approved).\n",
    "  - **Final Counts:**\n",
    "    - **Rejected (0):** 3,933 applicants\n",
    "    - **Approved (1):** 3,933 applicants\n",
    "\n",
    "## **Analysis**\n",
    "- The dataset initially had a **heavy class imbalance**, with rejected applications dominating (83.6%).\n",
    "- **Downsampling** was applied to create a balanced dataset, ensuring equal representation of both classes.\n",
    "- This balanced dataset is critical for training machine learning models, as it prevents bias toward the majority class and improves model performance in predicting both approved and rejected loans.\n",
    "\n",
    "---"
   ]
  },
  {
   "cell_type": "markdown",
   "id": "1ee6a080-0372-4dc5-9042-a29376583885",
   "metadata": {},
   "source": [
    "# Feature extraction"
   ]
  },
  {
   "cell_type": "code",
   "execution_count": 17,
   "id": "e7d5a95d-5d9c-4244-80cc-7ac28130b3f4",
   "metadata": {},
   "outputs": [],
   "source": [
    "vectorizer = TfidfVectorizer(max_features=100)\n",
    "X_text = vectorizer.fit_transform(df_balanced[\"clean_text\"]).toarray()"
   ]
  },
  {
   "cell_type": "markdown",
   "id": "390d0f65-5799-4b40-ba58-bd1027bc4685",
   "metadata": {},
   "source": [
    "# Scale numerical features"
   ]
  },
  {
   "cell_type": "code",
   "execution_count": 18,
   "id": "8950098c-4e40-4940-a634-4bba85b1d1a8",
   "metadata": {},
   "outputs": [],
   "source": [
    "scaler = StandardScaler()\n",
    "structured_features = df_balanced[[\"Income\", \"Credit_Score\", \"Loan_Amount\", \"DTI_Ratio\", \"Employment_Status\"]]\n",
    "X_structured = scaler.fit_transform(structured_features)"
   ]
  },
  {
   "cell_type": "markdown",
   "id": "da776653-202a-4086-aeb6-b94b38876b05",
   "metadata": {},
   "source": [
    "# Combine text and structured features"
   ]
  },
  {
   "cell_type": "code",
   "execution_count": 19,
   "id": "b98f8cf6-e3ce-4fd7-8e59-173f792bc4e5",
   "metadata": {},
   "outputs": [],
   "source": [
    "X_combined = np.hstack((X_text, X_structured))"
   ]
  },
  {
   "cell_type": "markdown",
   "id": "9aa71bd1-e2f2-4676-a8ba-2db0741479f4",
   "metadata": {},
   "source": [
    "# \"Model Training, Evaluation, and Prediction for Loan Approval Using Random Forest\""
   ]
  },
  {
   "cell_type": "code",
   "execution_count": 20,
   "id": "2ba806ef-116b-454f-81ce-cde95e929eea",
   "metadata": {},
   "outputs": [
    {
     "name": "stdout",
     "output_type": "stream",
     "text": [
      "Classification Report (Downsampling):\n",
      "               precision    recall  f1-score   support\n",
      "\n",
      "           0       1.00      0.97      0.98       787\n",
      "           1       0.97      1.00      0.98       787\n",
      "\n",
      "    accuracy                           0.98      1574\n",
      "   macro avg       0.98      0.98      0.98      1574\n",
      "weighted avg       0.98      0.98      0.98      1574\n",
      "\n"
     ]
    }
   ],
   "source": [
    "X = X_combined\n",
    "y = df_balanced[\"Approval\"]\n",
    "\n",
    "X_train, X_test, y_train, y_test = train_test_split(X, y, test_size=0.2, random_state=42, stratify=y)\n",
    "\n",
    "model = RandomForestClassifier(random_state=42)\n",
    "model.fit(X_train, y_train)\n",
    "\n",
    "y_pred = model.predict(X_test)\n",
    "\n",
    "print(\"Classification Report (Downsampling):\\n\", classification_report(y_test, y_pred))"
   ]
  },
  {
   "cell_type": "markdown",
   "id": "2364054a-b7ac-4f50-aa9b-ff3176f6127a",
   "metadata": {},
   "source": [
    "# Analysis\n",
    "\n",
    "After applying downsampling to balance the classes, the classification model achieved **high performance metrics**:\n",
    "- **Precision** and **Recall** are above **0.97**, indicating the model excels at correctly identifying both rejected and approved loans.\n",
    "- The **F1-Score**, which balances precision and recall, is **0.98** for both classes.\n",
    "- The **overall accuracy** of the model is **98%**, showcasing its effectiveness in predicting loan approvals after addressing the class imbalance.\n",
    "\n",
    "This demonstrates that balancing the dataset significantly improved the model's ability to handle both classes equally and make accurate predictions."
   ]
  },
  {
   "cell_type": "markdown",
   "id": "2e458d88-35d3-4eb1-a02f-840aa772dd09",
   "metadata": {},
   "source": [
    "# Getting training and testing scores"
   ]
  },
  {
   "cell_type": "code",
   "execution_count": 21,
   "id": "d8af424c-46e9-4e4e-ab59-cdbc82498be1",
   "metadata": {},
   "outputs": [
    {
     "name": "stdout",
     "output_type": "stream",
     "text": [
      "Training Accuracy: 100.00%\n",
      "Testing Accuracy: 98.16%\n"
     ]
    }
   ],
   "source": [
    "# Make predictions on the training set\n",
    "y_train_pred = model.predict(X_train)\n",
    "\n",
    "# Calculate the training accuracy\n",
    "train_accuracy = accuracy_score(y_train, y_train_pred)\n",
    "print(f\"Training Accuracy: {train_accuracy * 100:.2f}%\")\n",
    "\n",
    "# Make predictions on the test set\n",
    "y_test_pred = model.predict(X_test)\n",
    "\n",
    "# Calculate the test accuracy\n",
    "test_accuracy = accuracy_score(y_test, y_test_pred)\n",
    "print(f\"Testing Accuracy: {test_accuracy * 100:.2f}%\")"
   ]
  },
  {
   "cell_type": "markdown",
   "id": "2fedd6c7-fc98-4390-8451-721760652afd",
   "metadata": {},
   "source": [
    "# Model Performance\n",
    "\n",
    "- **Training Accuracy:** 100.00%  \n",
    "  The model achieved perfect accuracy on the training data, indicating it learned the patterns in the training set very well.\n",
    "\n",
    "- **Testing Accuracy:** 98.16%  \n",
    "  The model maintained high accuracy on the test data, demonstrating its ability to generalize well to unseen data.\n",
    "\n",
    "This strong performance suggests the model is both highly accurate and reliable for predicting loan approvals.\n",
    "\n",
    "---"
   ]
  },
  {
   "cell_type": "code",
   "execution_count": 22,
   "id": "6969b231-0fd4-4ffd-bf56-356972ecb4e0",
   "metadata": {},
   "outputs": [
    {
     "name": "stdout",
     "output_type": "stream",
     "text": [
      "==================================================\n",
      "Training Data Predictions:\n",
      " Actual  Predicted  Probability\n",
      "      1          1         0.99\n",
      "      0          0         0.04\n",
      "      1          1         1.00\n",
      "      1          1         1.00\n",
      "      0          0         0.02\n",
      "==================================================\n",
      "Testing Data Predictions:\n",
      " Actual  Predicted  Probability\n",
      "      1          1         0.89\n",
      "      1          1         0.95\n",
      "      1          1         0.98\n",
      "      1          1         0.96\n",
      "      1          1         0.96\n"
     ]
    }
   ],
   "source": [
    "y_train_pred = model.predict(X_train)\n",
    "y_train_proba = model.predict_proba(X_train)[:, 1]\n",
    "\n",
    "# Create a DataFrame for training data predictions\n",
    "train_predictions = pd.DataFrame({\"Actual\": y_train, \"Predicted\": y_train_pred, \"Probability\": y_train_proba})\n",
    "\n",
    "y_test_pred = model.predict(X_test)\n",
    "y_test_proba = model.predict_proba(X_test)[:, 1]\n",
    "\n",
    "# Create a DataFrame for testing data predictions\n",
    "test_predictions = pd.DataFrame({\"Actual\": y_test, \"Predicted\": y_test_pred, \"Probability\": y_test_proba})\n",
    "\n",
    "print(\"==\" *25)\n",
    "print(\"Training Data Predictions:\")\n",
    "print(train_predictions.sample(5, random_state=42).to_string(index=False))\n",
    "\n",
    "print(\"==\" *25)\n",
    "print(\"Testing Data Predictions:\")\n",
    "print(test_predictions.sample(5, random_state=42).to_string(index=False))\n",
    "\n",
    "try:\n",
    "    train_predictions.to_csv(\"train_predictions.csv\", index=False)\n",
    "    test_predictions.to_csv(\"test_predictions.csv\", index=False)\n",
    "except Exception as e:\n",
    "    print(f\"Error saving predictions: {str(e)}\")"
   ]
  },
  {
   "cell_type": "markdown",
   "id": "67f5ec38-c3e3-45a2-bc0b-796518f781cd",
   "metadata": {},
   "source": [
    "### **Insights**:\n",
    "- The model shows **high confidence** in its predictions, with probabilities close to 1 for correct predictions.\n",
    "- Both training and testing predictions align well with actual values, indicating **strong performance** and **generalization**.\n",
    "- Generalization ensures the model is not just memorizing the training data but is capable of making accurate predictions in real-world scenarios.\n",
    "- The model performs well on both the training data and the test data (e.g., high testing accuracy of 98.16% )"
   ]
  },
  {
   "cell_type": "markdown",
   "id": "229421b6-6a39-43d0-8bf2-3ed0de5d298f",
   "metadata": {},
   "source": [
    "# Perform cross-validation"
   ]
  },
  {
   "cell_type": "code",
   "execution_count": 23,
   "id": "496e77b7-d2b1-490b-beaa-fb639159adb4",
   "metadata": {},
   "outputs": [
    {
     "name": "stdout",
     "output_type": "stream",
     "text": [
      "Cross-Validation Scores: [0.97649301 0.97520661 0.97902098 0.9726637  0.97393516]\n",
      "Mean Cross-Validation Accuracy: 0.9754638915433649\n"
     ]
    }
   ],
   "source": [
    "from sklearn.model_selection import cross_val_score\n",
    "cv_scores = cross_val_score(model, X_combined, y, cv=5, scoring='accuracy')\n",
    "\n",
    "print(\"Cross-Validation Scores:\", cv_scores)\n",
    "print(\"Mean Cross-Validation Accuracy:\", cv_scores.mean())"
   ]
  },
  {
   "cell_type": "markdown",
   "id": "82ff022d-4faf-488e-99cc-a93a89bea316",
   "metadata": {},
   "source": [
    "### **Insights**:\n",
    "- The cross-validation scores are consistent and high across all folds, indicating the model is **stable** and **reliable**.\n",
    "- The **mean accuracy of 97.55%** confirms the model's strong performance and ability to generalize well to unseen data.\n",
    "- This further validates the model's effectiveness in predicting loan approvals."
   ]
  },
  {
   "cell_type": "markdown",
   "id": "d042c86c-e7ec-454a-9587-8208286ad6e0",
   "metadata": {},
   "source": [
    "# Visualize Feature Importance which help us understand which features are most influential in our model."
   ]
  },
  {
   "cell_type": "code",
   "execution_count": 24,
   "id": "3845d520-ae4e-4d95-bddc-c47b9b8538c1",
   "metadata": {},
   "outputs": [
    {
     "data": {
      "image/png": "[encoded data removed]",
      "text/plain": [
       "<Figure size 1000x600 with 1 Axes>"
      ]
     },
     "metadata": {},
     "output_type": "display_data"
    }
   ],
   "source": [
    "importances = model.feature_importances_\n",
    "feature_names = vectorizer.get_feature_names_out().tolist() + [\"Income\", \"Credit_Score\", \"Loan_Amount\", \"DTI_Ratio\", \"Employment_Status\"]\n",
    "\n",
    "feature_names = feature_names[:100] + [\"Income\", \"Credit_Score\", \"Loan_Amount\", \"DTI_Ratio\", \"Employment_Status\"]\n",
    "\n",
    "# Create a DataFrame for visualization\n",
    "feature_importance_df = pd.DataFrame({'Feature': feature_names, 'Importance': importances})\n",
    "feature_importance_df = feature_importance_df.sort_values(by='Importance', ascending=False)\n",
    "\n",
    "plt.figure(figsize=(10, 6))\n",
    "sns.barplot(x='Importance', y='Feature', data=feature_importance_df.head(10))\n",
    "plt.title('Top 10 Feature Importances')\n",
    "plt.savefig(\"Top 10 Feature Importances.png\")\n",
    "plt.show()"
   ]
  },
  {
   "cell_type": "markdown",
   "id": "f4bf3ca2-1a5f-4355-a5d0-e746b1a8fd2c",
   "metadata": {},
   "source": [
    "# Analysis\n",
    "\n",
    "# Top 10 Feature Importances\n",
    "\n",
    "1. **Employment_Status**: Most important feature.\n",
    "2. **Credit_Score**: Second most important.\n",
    "3. **DTI_Ratio**: Debt-to-Income ratio.\n",
    "4. **Loan_Amount**: Amount requested.\n",
    "5. **Income**: Annual income.\n",
    "6. **Text-Based Features**: `need`, `loan`, `money`, `pay`, `business` (less important).\n",
    "\n",
    "### **Key Insight**:\n",
    "- **Employment_Status** and **Credit_Score** are the top factors influencing loan approval predictions.\n",
    "- Financial metrics (**DTI_Ratio**, **Loan_Amount**, **Income**) are also significant.\n",
    "- Text-based features have minor influence."
   ]
  },
  {
   "cell_type": "markdown",
   "id": "cab8d12b-e200-4ab6-80d6-b5d9cbec2c1e",
   "metadata": {},
   "source": [
    "# Saving  model and its related objects."
   ]
  },
  {
   "cell_type": "code",
   "execution_count": 25,
   "id": "9ec289db-56c9-48a9-82aa-2c37d5b1fee7",
   "metadata": {},
   "outputs": [
    {
     "data": {
      "text/plain": [
       "['TfidfVectorizer_model.pkl']"
      ]
     },
     "execution_count": 25,
     "metadata": {},
     "output_type": "execute_result"
    }
   ],
   "source": [
    "joblib.dump(model, \"Random_Forest_model.pkl\")\n",
    "joblib.dump(scaler, \"scaler_model.pkl\")\n",
    "joblib.dump(vectorizer, \"TfidfVectorizer_model.pkl\")"
   ]
  },
  {
   "cell_type": "code",
   "execution_count": null,
   "id": "b4612c65-7d48-4f87-895a-6d519f2fc593",
   "metadata": {},
   "outputs": [],
   "source": []
  }
 ],
 "metadata": {
  "kernelspec": {
   "display_name": "Python 3 (ipykernel)",
   "language": "python",
   "name": "python3"
  },
  "language_info": {
   "codemirror_mode": {
    "name": "ipython",
    "version": 3
   },
   "file_extension": ".py",
   "mimetype": "text/x-python",
   "name": "python",
   "nbconvert_exporter": "python",
   "pygments_lexer": "ipython3",
   "version": "3.12.3"
  },
  "widgets": {
   "application/vnd.jupyter.widget-state+json": {
    "state": {},
    "version_major": 2,
    "version_minor": 0
   }
  }
 },
 "nbformat": 4,
 "nbformat_minor": 5
}
